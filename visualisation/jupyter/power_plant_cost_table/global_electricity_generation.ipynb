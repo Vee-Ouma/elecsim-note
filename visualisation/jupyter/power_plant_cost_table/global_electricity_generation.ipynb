{
 "cells": [
  {
   "cell_type": "code",
   "execution_count": 102,
   "metadata": {},
   "outputs": [],
   "source": [
    "import pandas as pd\n",
    "import seaborn as sns\n",
    "import matplotlib.pyplot as plt"
   ]
  },
  {
   "cell_type": "code",
   "execution_count": 103,
   "metadata": {},
   "outputs": [
    {
     "data": {
      "text/html": [
       "<div>\n",
       "<style scoped>\n",
       "    .dataframe tbody tr th:only-of-type {\n",
       "        vertical-align: middle;\n",
       "    }\n",
       "\n",
       "    .dataframe tbody tr th {\n",
       "        vertical-align: top;\n",
       "    }\n",
       "\n",
       "    .dataframe thead th {\n",
       "        text-align: right;\n",
       "    }\n",
       "</style>\n",
       "<table border=\"1\" class=\"dataframe\">\n",
       "  <thead>\n",
       "    <tr style=\"text-align: right;\">\n",
       "      <th></th>\n",
       "      <th>Oil</th>\n",
       "      <th>Natural Gas</th>\n",
       "      <th>Coal</th>\n",
       "      <th>Nuclear</th>\n",
       "      <th>Hydro</th>\n",
       "      <th>Renewables</th>\n",
       "    </tr>\n",
       "  </thead>\n",
       "  <tbody>\n",
       "    <tr>\n",
       "      <th>0</th>\n",
       "      <td>883</td>\n",
       "      <td>5915.3</td>\n",
       "      <td>9723.4</td>\n",
       "      <td>2635.6</td>\n",
       "      <td>4059.9</td>\n",
       "      <td>2151.5</td>\n",
       "    </tr>\n",
       "  </tbody>\n",
       "</table>\n",
       "</div>"
      ],
      "text/plain": [
       "   Oil  Natural Gas    Coal  Nuclear   Hydro  Renewables\n",
       "0  883       5915.3  9723.4   2635.6  4059.9      2151.5"
      ]
     },
     "execution_count": 103,
     "metadata": {},
     "output_type": "execute_result"
    }
   ],
   "source": [
    "rows = {\"Oil\":[883],'Natural Gas':[5915.3], 'Coal':[9723.4], 'Nuclear':[2635.6], 'Hydro':[4059.9], 'Renewables':[2151.5]}\n",
    "energy_usage = pd.DataFrame(rows)\n",
    "\n",
    "energy_usage\n"
   ]
  },
  {
   "cell_type": "code",
   "execution_count": 104,
   "metadata": {},
   "outputs": [
    {
     "data": {
      "text/html": [
       "<div>\n",
       "<style scoped>\n",
       "    .dataframe tbody tr th:only-of-type {\n",
       "        vertical-align: middle;\n",
       "    }\n",
       "\n",
       "    .dataframe tbody tr th {\n",
       "        vertical-align: top;\n",
       "    }\n",
       "\n",
       "    .dataframe thead th {\n",
       "        text-align: right;\n",
       "    }\n",
       "</style>\n",
       "<table border=\"1\" class=\"dataframe\">\n",
       "  <thead>\n",
       "    <tr style=\"text-align: right;\">\n",
       "      <th></th>\n",
       "      <th>Oil</th>\n",
       "      <th>Natural Gas</th>\n",
       "      <th>Coal</th>\n",
       "      <th>Nuclear</th>\n",
       "      <th>Hydro</th>\n",
       "      <th>Renewables</th>\n",
       "      <th>total</th>\n",
       "    </tr>\n",
       "  </thead>\n",
       "  <tbody>\n",
       "    <tr>\n",
       "      <th>0</th>\n",
       "      <td>883</td>\n",
       "      <td>5915.3</td>\n",
       "      <td>9723.4</td>\n",
       "      <td>2635.6</td>\n",
       "      <td>4059.9</td>\n",
       "      <td>2151.5</td>\n",
       "      <td>25368.7</td>\n",
       "    </tr>\n",
       "  </tbody>\n",
       "</table>\n",
       "</div>"
      ],
      "text/plain": [
       "   Oil  Natural Gas    Coal  Nuclear   Hydro  Renewables    total\n",
       "0  883       5915.3  9723.4   2635.6  4059.9      2151.5  25368.7"
      ]
     },
     "execution_count": 104,
     "metadata": {},
     "output_type": "execute_result"
    }
   ],
   "source": [
    "energy_usage_with_total = energy_usage.copy()\n",
    "energy_usage_with_total['total'] = energy_usage.sum(axis=1)\n",
    "energy_usage_with_total"
   ]
  },
  {
   "cell_type": "code",
   "execution_count": 105,
   "metadata": {},
   "outputs": [
    {
     "data": {
      "text/html": [
       "<div>\n",
       "<style scoped>\n",
       "    .dataframe tbody tr th:only-of-type {\n",
       "        vertical-align: middle;\n",
       "    }\n",
       "\n",
       "    .dataframe tbody tr th {\n",
       "        vertical-align: top;\n",
       "    }\n",
       "\n",
       "    .dataframe thead th {\n",
       "        text-align: right;\n",
       "    }\n",
       "</style>\n",
       "<table border=\"1\" class=\"dataframe\">\n",
       "  <thead>\n",
       "    <tr style=\"text-align: right;\">\n",
       "      <th></th>\n",
       "      <th>Oil</th>\n",
       "      <th>Natural Gas</th>\n",
       "      <th>Coal</th>\n",
       "      <th>Nuclear</th>\n",
       "      <th>Hydro</th>\n",
       "      <th>Renewables</th>\n",
       "      <th>total</th>\n",
       "    </tr>\n",
       "  </thead>\n",
       "  <tbody>\n",
       "    <tr>\n",
       "      <th>0</th>\n",
       "      <td>0.034807</td>\n",
       "      <td>0.233173</td>\n",
       "      <td>0.383283</td>\n",
       "      <td>0.103892</td>\n",
       "      <td>0.160036</td>\n",
       "      <td>0.084809</td>\n",
       "      <td>1.0</td>\n",
       "    </tr>\n",
       "  </tbody>\n",
       "</table>\n",
       "</div>"
      ],
      "text/plain": [
       "        Oil  Natural Gas      Coal   Nuclear     Hydro  Renewables  total\n",
       "0  0.034807     0.233173  0.383283  0.103892  0.160036    0.084809    1.0"
      ]
     },
     "execution_count": 105,
     "metadata": {},
     "output_type": "execute_result"
    }
   ],
   "source": [
    "energy_usage_perc = energy_usage_with_total.div(energy_usage_with_total['total'], axis=0)\n",
    "energy_usage_perc"
   ]
  },
  {
   "cell_type": "code",
   "execution_count": 107,
   "metadata": {},
   "outputs": [
    {
     "data": {
      "text/html": [
       "<div>\n",
       "<style scoped>\n",
       "    .dataframe tbody tr th:only-of-type {\n",
       "        vertical-align: middle;\n",
       "    }\n",
       "\n",
       "    .dataframe tbody tr th {\n",
       "        vertical-align: top;\n",
       "    }\n",
       "\n",
       "    .dataframe thead th {\n",
       "        text-align: right;\n",
       "    }\n",
       "</style>\n",
       "<table border=\"1\" class=\"dataframe\">\n",
       "  <thead>\n",
       "    <tr style=\"text-align: right;\">\n",
       "      <th></th>\n",
       "      <th>Energy Source</th>\n",
       "      <th>value</th>\n",
       "      <th>Carbon Emissions</th>\n",
       "    </tr>\n",
       "  </thead>\n",
       "  <tbody>\n",
       "    <tr>\n",
       "      <th>0</th>\n",
       "      <td>Oil</td>\n",
       "      <td>3.480667</td>\n",
       "      <td>314</td>\n",
       "    </tr>\n",
       "    <tr>\n",
       "      <th>1</th>\n",
       "      <td>Natural Gas</td>\n",
       "      <td>23.317316</td>\n",
       "      <td>227</td>\n",
       "    </tr>\n",
       "    <tr>\n",
       "      <th>2</th>\n",
       "      <td>Coal</td>\n",
       "      <td>38.328334</td>\n",
       "      <td>414</td>\n",
       "    </tr>\n",
       "    <tr>\n",
       "      <th>3</th>\n",
       "      <td>Nuclear</td>\n",
       "      <td>10.389180</td>\n",
       "      <td>0</td>\n",
       "    </tr>\n",
       "    <tr>\n",
       "      <th>4</th>\n",
       "      <td>Hydro</td>\n",
       "      <td>16.003579</td>\n",
       "      <td>0</td>\n",
       "    </tr>\n",
       "    <tr>\n",
       "      <th>5</th>\n",
       "      <td>Renewables</td>\n",
       "      <td>8.480923</td>\n",
       "      <td>0</td>\n",
       "    </tr>\n",
       "  </tbody>\n",
       "</table>\n",
       "</div>"
      ],
      "text/plain": [
       "  Energy Source      value  Carbon Emissions\n",
       "0           Oil   3.480667               314\n",
       "1   Natural Gas  23.317316               227\n",
       "2          Coal  38.328334               414\n",
       "3       Nuclear  10.389180                 0\n",
       "4         Hydro  16.003579                 0\n",
       "5    Renewables   8.480923                 0"
      ]
     },
     "execution_count": 107,
     "metadata": {},
     "output_type": "execute_result"
    }
   ],
   "source": [
    "energy_usage_long = pd.melt(energy_usage_perc, value_vars=['Oil','Natural Gas','Coal','Nuclear','Hydro','Renewables'], var_name=\"Energy Source\")\n",
    "\n",
    "energy_usage_long.value = energy_usage_long.value*100\n",
    "energy_usage_long['Carbon Emissions'] = [314,227,414,0,0,0]\n",
    "\n",
    "energy_usage_long"
   ]
  },
  {
   "cell_type": "code",
   "execution_count": 109,
   "metadata": {},
   "outputs": [],
   "source": [
    "energy_usage_long = energy_usage_long.rename(columns={\"value\":\"Percentage (%)\"})"
   ]
  },
  {
   "cell_type": "code",
   "execution_count": 115,
   "metadata": {},
   "outputs": [
    {
     "data": {
      "image/png": "[encoded data removed]",
      "text/plain": [
       "<Figure size 432x288 with 2 Axes>"
      ]
     },
     "metadata": {
      "needs_background": "light"
     },
     "output_type": "display_data"
    }
   ],
   "source": [
    "\n",
    "pal = sns.color_palette(\"husl\")\n",
    "sns.barplot(x='Energy Source', y='Percentage (%)', data=energy_usage_long, palette=pal)\n",
    "ax2 = plt.twinx()\n",
    "plt.scatter(data=energy_usage_long, x='Energy Source', y= 'Carbon Emissions')\n",
    "plt.title(\"Share of Global Electricity Generation by Fuel and Carbon Intensity\")\n",
    "plt.ylabel(\"Carbon Emissions (kg/MWh)\")\n",
    "plt.savefig('elec_gen_carbon.png')"
   ]
  }
 ],
 "metadata": {
  "kernelspec": {
   "display_name": "12._Reinforcement_Learning-DLBnGMow",
   "language": "python",
   "name": "12._reinforcement_learning-dlbngmow"
  },
  "language_info": {
   "codemirror_mode": {
    "name": "ipython",
    "version": 3
   },
   "file_extension": ".py",
   "mimetype": "text/x-python",
   "name": "python",
   "nbconvert_exporter": "python",
   "pygments_lexer": "ipython3",
   "version": "3.6.6"
  }
 },
 "nbformat": 4,
 "nbformat_minor": 2
}
