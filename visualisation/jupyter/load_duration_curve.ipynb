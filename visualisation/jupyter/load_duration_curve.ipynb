{
 "cells": [
  {
   "cell_type": "code",
   "execution_count": 14,
   "metadata": {},
   "outputs": [],
   "source": [
    "import pandas as pd\n",
    "import matplotlib.pyplot as plt\n",
    "import seaborn as sns\n",
    "import matplotlib.ticker as plticker\n",
    "import matplotlib.ticker as ticker\n",
    "import numpy as np\n",
    "from scipy.stats import describe\n",
    "from statistics import median"
   ]
  },
  {
   "cell_type": "code",
   "execution_count": 2,
   "metadata": {},
   "outputs": [],
   "source": [
    "segment_demand_diff = [17568, 21964, 23127, 24327, 25520, 26760, 27888, 28935, 29865, 30721, 31567, 32315, 33188, 34182, 35505, 37480, 39585, 42206, 45209, 52152]\n",
    "segment_time = [8752.5, 8291.83, 7831.17, 7370.5, 6909.92, 6449.25, 5988.58, 5527.92, 5067.25, 4606.58, 4146, 3685.33, 3224.67, 2764, 2303.33, 1842.67, 1382.08, 921.42, 460.75, 0.08]\n"
   ]
  },
  {
   "cell_type": "code",
   "execution_count": 3,
   "metadata": {},
   "outputs": [
    {
     "data": {
      "text/html": [
       "<div>\n",
       "<style scoped>\n",
       "    .dataframe tbody tr th:only-of-type {\n",
       "        vertical-align: middle;\n",
       "    }\n",
       "\n",
       "    .dataframe tbody tr th {\n",
       "        vertical-align: top;\n",
       "    }\n",
       "\n",
       "    .dataframe thead th {\n",
       "        text-align: right;\n",
       "    }\n",
       "</style>\n",
       "<table border=\"1\" class=\"dataframe\">\n",
       "  <thead>\n",
       "    <tr style=\"text-align: right;\">\n",
       "      <th></th>\n",
       "      <th>segment_demand_diff</th>\n",
       "      <th>segment_time</th>\n",
       "      <th>percent_time</th>\n",
       "    </tr>\n",
       "  </thead>\n",
       "  <tbody>\n",
       "    <tr>\n",
       "      <th>0</th>\n",
       "      <td>17568</td>\n",
       "      <td>8752</td>\n",
       "      <td>100.0</td>\n",
       "    </tr>\n",
       "    <tr>\n",
       "      <th>1</th>\n",
       "      <td>21964</td>\n",
       "      <td>8291</td>\n",
       "      <td>95.0</td>\n",
       "    </tr>\n",
       "    <tr>\n",
       "      <th>2</th>\n",
       "      <td>23127</td>\n",
       "      <td>7831</td>\n",
       "      <td>89.0</td>\n",
       "    </tr>\n",
       "    <tr>\n",
       "      <th>3</th>\n",
       "      <td>24327</td>\n",
       "      <td>7370</td>\n",
       "      <td>84.0</td>\n",
       "    </tr>\n",
       "    <tr>\n",
       "      <th>4</th>\n",
       "      <td>25520</td>\n",
       "      <td>6909</td>\n",
       "      <td>79.0</td>\n",
       "    </tr>\n",
       "    <tr>\n",
       "      <th>5</th>\n",
       "      <td>26760</td>\n",
       "      <td>6449</td>\n",
       "      <td>74.0</td>\n",
       "    </tr>\n",
       "    <tr>\n",
       "      <th>6</th>\n",
       "      <td>27888</td>\n",
       "      <td>5988</td>\n",
       "      <td>68.0</td>\n",
       "    </tr>\n",
       "    <tr>\n",
       "      <th>7</th>\n",
       "      <td>28935</td>\n",
       "      <td>5527</td>\n",
       "      <td>63.0</td>\n",
       "    </tr>\n",
       "    <tr>\n",
       "      <th>8</th>\n",
       "      <td>29865</td>\n",
       "      <td>5067</td>\n",
       "      <td>58.0</td>\n",
       "    </tr>\n",
       "    <tr>\n",
       "      <th>9</th>\n",
       "      <td>30721</td>\n",
       "      <td>4606</td>\n",
       "      <td>53.0</td>\n",
       "    </tr>\n",
       "    <tr>\n",
       "      <th>10</th>\n",
       "      <td>31567</td>\n",
       "      <td>4146</td>\n",
       "      <td>47.0</td>\n",
       "    </tr>\n",
       "    <tr>\n",
       "      <th>11</th>\n",
       "      <td>32315</td>\n",
       "      <td>3685</td>\n",
       "      <td>42.0</td>\n",
       "    </tr>\n",
       "    <tr>\n",
       "      <th>12</th>\n",
       "      <td>33188</td>\n",
       "      <td>3224</td>\n",
       "      <td>37.0</td>\n",
       "    </tr>\n",
       "    <tr>\n",
       "      <th>13</th>\n",
       "      <td>34182</td>\n",
       "      <td>2764</td>\n",
       "      <td>32.0</td>\n",
       "    </tr>\n",
       "    <tr>\n",
       "      <th>14</th>\n",
       "      <td>35505</td>\n",
       "      <td>2303</td>\n",
       "      <td>26.0</td>\n",
       "    </tr>\n",
       "    <tr>\n",
       "      <th>15</th>\n",
       "      <td>37480</td>\n",
       "      <td>1842</td>\n",
       "      <td>21.0</td>\n",
       "    </tr>\n",
       "    <tr>\n",
       "      <th>16</th>\n",
       "      <td>39585</td>\n",
       "      <td>1382</td>\n",
       "      <td>16.0</td>\n",
       "    </tr>\n",
       "    <tr>\n",
       "      <th>17</th>\n",
       "      <td>42206</td>\n",
       "      <td>921</td>\n",
       "      <td>11.0</td>\n",
       "    </tr>\n",
       "    <tr>\n",
       "      <th>18</th>\n",
       "      <td>45209</td>\n",
       "      <td>460</td>\n",
       "      <td>5.0</td>\n",
       "    </tr>\n",
       "    <tr>\n",
       "      <th>19</th>\n",
       "      <td>52152</td>\n",
       "      <td>0</td>\n",
       "      <td>0.0</td>\n",
       "    </tr>\n",
       "  </tbody>\n",
       "</table>\n",
       "</div>"
      ],
      "text/plain": [
       "    segment_demand_diff  segment_time  percent_time\n",
       "0                 17568          8752         100.0\n",
       "1                 21964          8291          95.0\n",
       "2                 23127          7831          89.0\n",
       "3                 24327          7370          84.0\n",
       "4                 25520          6909          79.0\n",
       "5                 26760          6449          74.0\n",
       "6                 27888          5988          68.0\n",
       "7                 28935          5527          63.0\n",
       "8                 29865          5067          58.0\n",
       "9                 30721          4606          53.0\n",
       "10                31567          4146          47.0\n",
       "11                32315          3685          42.0\n",
       "12                33188          3224          37.0\n",
       "13                34182          2764          32.0\n",
       "14                35505          2303          26.0\n",
       "15                37480          1842          21.0\n",
       "16                39585          1382          16.0\n",
       "17                42206           921          11.0\n",
       "18                45209           460           5.0\n",
       "19                52152             0           0.0"
      ]
     },
     "execution_count": 3,
     "metadata": {},
     "output_type": "execute_result"
    }
   ],
   "source": [
    "ldc = pd.DataFrame({\"segment_demand_diff\":[17568, 21964, 23127, 24327, 25520, 26760, 27888, 28935, 29865, 30721, 31567, 32315, 33188, 34182, 35505, 37480, 39585, 42206, 45209, 52152],\"segment_time\" : [8752.5, 8291.83, 7831.17, 7370.5, 6909.92, 6449.25, 5988.58, 5527.92, 5067.25, 4606.58, 4146, 3685.33, 3224.67, 2764, 2303.33, 1842.67, 1382.08, 921.42, 460.75, 0.08]\n",
    "})\n",
    "ldc['percent_time'] = pd.to_numeric(round((ldc[\"segment_time\"]/8752.5)*100,0))\n",
    "ldc['segment_time'] = pd.to_numeric(((ldc[\"segment_time\"]))).astype(int)\n",
    "\n",
    "ldc"
   ]
  },
  {
   "cell_type": "code",
   "execution_count": 4,
   "metadata": {},
   "outputs": [
    {
     "data": {
      "image/png": "[encoded data removed]",
      "text/plain": [
       "<Figure size 432x288 with 1 Axes>"
      ]
     },
     "metadata": {
      "needs_background": "light"
     },
     "output_type": "display_data"
    }
   ],
   "source": [
    "fig, ax = plt.subplots(1,1)\n",
    "sns.barplot(y=ldc.segment_demand_diff, x=ldc.segment_time, data = ldc, color='lightblue')\n",
    "loc = plticker.MultipleLocator(base=4) # this locator puts ticks at regular intervals\n",
    "ax.xaxis.set_major_locator(loc)\n",
    "# plt.show()\n",
    "\n",
    "# sns.barplot(ldc.percent_time,ldc.segment_demand_diff, color=\"lightgreen\")\n",
    "\n",
    "# plt.xaxis.set_major_locator(ticker.MultipleLocator(4))\n",
    "# plt.xaxis.set_major_formatter(ticker.ScalarFormatter())\n",
    "\n",
    "plt.ylabel(\"Demand (MW)\")\n",
    "plt.xlabel(\"Number of Hours in a Year at Demand Level\")\n",
    "# plt.rcParams['figure.figsize'] = 30, 50\n",
    "\n",
    "plt.rcParams.update({'font.size': 10})\n",
    "# plt.savefig(\"load_duration_curve.png\")\n",
    "plt.savefig('load_duration_curve.png', format='png', dpi=1000)"
   ]
  },
  {
   "cell_type": "code",
   "execution_count": 15,
   "metadata": {},
   "outputs": [
    {
     "data": {
      "text/plain": [
       "55796.2"
      ]
     },
     "execution_count": 15,
     "metadata": {},
     "output_type": "execute_result"
    },
    {
     "data": {
      "image/png": "[encoded data removed]",
      "text/plain": [
       "<Figure size 432x288 with 1 Axes>"
      ]
     },
     "metadata": {
      "needs_background": "light"
     },
     "output_type": "display_data"
    }
   ],
   "source": [
    "memory = [36022.8, 41257.7, 45782.6, 51083.6, 55796.2, 60936.7, 65721.5, 73045.7, 81852.2]\n",
    "plt.plot(memory)\n",
    "memory = np.array(memory)\n",
    "median(memory)"
   ]
  }
 ],
 "metadata": {
  "kernelspec": {
   "display_name": "12._Reinforcement_Learning-DLBnGMow",
   "language": "python",
   "name": "12._reinforcement_learning-dlbngmow"
  },
  "language_info": {
   "codemirror_mode": {
    "name": "ipython",
    "version": 3
   },
   "file_extension": ".py",
   "mimetype": "text/x-python",
   "name": "python",
   "nbconvert_exporter": "python",
   "pygments_lexer": "ipython3",
   "version": "3.6.6"
  }
 },
 "nbformat": 4,
 "nbformat_minor": 2
}
